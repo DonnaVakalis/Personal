{
  "nbformat": 4,
  "nbformat_minor": 0,
  "metadata": {
    "colab": {
      "name": "DJW_slack_word.ipynb",
      "provenance": [],
      "authorship_tag": "ABX9TyOwpckt22Lik521Lt6WlTAK",
      "include_colab_link": true
    },
    "kernelspec": {
      "name": "python3",
      "display_name": "Python 3"
    }
  },
  "cells": [
    {
      "cell_type": "markdown",
      "metadata": {
        "id": "view-in-github",
        "colab_type": "text"
      },
      "source": [
        "<a href=\"https://colab.research.google.com/github/DonnaVakalis/Personal/blob/master/DJW_slack_word.ipynb\" target=\"_parent\"><img src=\"https://colab.research.google.com/assets/colab-badge.svg\" alt=\"Open In Colab\"/></a>"
      ]
    },
    {
      "cell_type": "markdown",
      "metadata": {
        "id": "e4Kyk2eiK4uV",
        "colab_type": "text"
      },
      "source": [
        "For the code in this notebook, I am indebted to:\n",
        "\n",
        "\n",
        "*   https://www.analyticsvidhya.com/blog/2018/02/the-different-methods-deal-text-data-predictive-python/\n",
        "*   https://stackoverflow.com/questions/56866697/python-read-json-files-from-all-sub-directories\n",
        "\n",
        "\n",
        "\n",
        " "
      ]
    },
    {
      "cell_type": "code",
      "metadata": {
        "id": "J-okaoEMu8G4",
        "colab_type": "code",
        "colab": {}
      },
      "source": [
        "# IMPORTS\n",
        "\n",
        "import os\n",
        "import glob\n",
        "import pandas as pd\n",
        "from pathlib import Path"
      ],
      "execution_count": 0,
      "outputs": []
    },
    {
      "cell_type": "code",
      "metadata": {
        "id": "ftONdsLcEyyo",
        "colab_type": "code",
        "outputId": "cb30ae99-cd2f-46a0-a977-2458f1346526",
        "colab": {
          "base_uri": "https://localhost:8080/",
          "height": 126
        }
      },
      "source": [
        "# MOUNT GOOGLE DRIVE\n",
        "\n",
        "from google.colab import drive\n",
        "drive.mount('/content/gdrive')"
      ],
      "execution_count": 3,
      "outputs": [
        {
          "output_type": "stream",
          "text": [
            "Go to this URL in a browser: https://accounts.google.com/o/oauth2/auth?client_id=947318989803-6bn6qk8qdgf4n4g3pfee6491hc0brc4i.apps.googleusercontent.com&redirect_uri=urn%3aietf%3awg%3aoauth%3a2.0%3aoob&response_type=code&scope=email%20https%3a%2f%2fwww.googleapis.com%2fauth%2fdocs.test%20https%3a%2f%2fwww.googleapis.com%2fauth%2fdrive%20https%3a%2f%2fwww.googleapis.com%2fauth%2fdrive.photos.readonly%20https%3a%2f%2fwww.googleapis.com%2fauth%2fpeopleapi.readonly\n",
            "\n",
            "Enter your authorization code:\n",
            "··········\n",
            "Mounted at /content/gdrive\n"
          ],
          "name": "stdout"
        }
      ]
    },
    {
      "cell_type": "code",
      "metadata": {
        "id": "70PCJf1OEld1",
        "colab_type": "code",
        "colab": {}
      },
      "source": [
        "# LOCATE RAW DATA FILES\n",
        "os.chdir(\"/content/gdrive/My Drive/RawDat/Slack_export_June8\")\n",
        "working_directory = os.getcwd()\n",
        " \n",
        "sub_directories = [working_directory + \"/\" + x for x in os.listdir(working_directory) if os.path.isdir(working_directory + \"/\"+x)]\n",
        "all_json_files = []\n",
        "\n",
        "for sub_dir in sub_directories:\n",
        "    os.chdir(sub_dir)\n",
        "    for file in glob.glob(\"*.json\"):\n",
        "        all_json_files.append(sub_dir + \"/\" + file)\n",
        "\n",
        "# Get back to original working directory\n",
        "os.chdir(working_directory)"
      ],
      "execution_count": 0,
      "outputs": []
    },
    {
      "cell_type": "code",
      "metadata": {
        "id": "OejDtJll32TO",
        "colab_type": "code",
        "outputId": "3ff1df27-b50a-4bea-fca9-0831ceca8345",
        "colab": {
          "base_uri": "https://localhost:8080/",
          "height": 35
        }
      },
      "source": [
        "# temp check\n",
        "#print(all_json_files)\n",
        "len(all_json_files) #2457"
      ],
      "execution_count": 5,
      "outputs": [
        {
          "output_type": "execute_result",
          "data": {
            "text/plain": [
              "2457"
            ]
          },
          "metadata": {
            "tags": []
          },
          "execution_count": 5
        }
      ]
    },
    {
      "cell_type": "code",
      "metadata": {
        "id": "gaG1Ems66HNU",
        "colab_type": "code",
        "colab": {
          "base_uri": "https://localhost:8080/",
          "height": 52
        },
        "outputId": "bee580c7-db5d-44ed-80a0-5dcf282b10d2"
      },
      "source": [
        "# LOAD ALL JSON FILES INTO ONE LIST \n",
        "data_container = []\n",
        "counter_totals = 0\n",
        "counter_failures = 0\n",
        "for x in all_json_files:\n",
        "      counter_totals += 1\n",
        "      try: \n",
        "          df = pd.read_json(x)\n",
        "          data_container.append(df)\n",
        "      except (ValueError):\n",
        "          counter_failures += 1\n",
        "          continue\n",
        "      \n",
        "print(counter_totals) # 2457\n",
        "print(counter_failures) # 2"
      ],
      "execution_count": 6,
      "outputs": [
        {
          "output_type": "stream",
          "text": [
            "2457\n",
            "2\n"
          ],
          "name": "stdout"
        }
      ]
    },
    {
      "cell_type": "code",
      "metadata": {
        "id": "qy9bqpJ5uiBO",
        "colab_type": "code",
        "colab": {}
      },
      "source": [
        "# MAKE THE LIST INTO A DATAFRAME\n",
        "all_data = pd.concat(data_container)"
      ],
      "execution_count": 0,
      "outputs": []
    },
    {
      "cell_type": "code",
      "metadata": {
        "id": "9KwXaQl0kzG3",
        "colab_type": "code",
        "colab": {}
      },
      "source": [
        "# MAKE CSV FILE\n",
        "# writing to csv for quicker startup or offline use later\n",
        "export_csv = all_data.to_csv (r'/content/gdrive/My Drive/RawDat/pandaresult.csv', index = None, header=True) # path where result file will be stored\n"
      ],
      "execution_count": 0,
      "outputs": []
    },
    {
      "cell_type": "code",
      "metadata": {
        "id": "2mn766lSGsfx",
        "colab_type": "code",
        "colab": {
          "base_uri": "https://localhost:8080/",
          "height": 194
        },
        "outputId": "cd24b8c0-9f4f-4d12-8d1b-4ef5ec3d84ef"
      },
      "source": [
        " # CHOP TO WHAT's NEEDED\n",
        "dat = all_data[['user','text']]\n",
        "dat.head()"
      ],
      "execution_count": 16,
      "outputs": [
        {
          "output_type": "execute_result",
          "data": {
            "text/html": [
              "<div>\n",
              "<style scoped>\n",
              "    .dataframe tbody tr th:only-of-type {\n",
              "        vertical-align: middle;\n",
              "    }\n",
              "\n",
              "    .dataframe tbody tr th {\n",
              "        vertical-align: top;\n",
              "    }\n",
              "\n",
              "    .dataframe thead th {\n",
              "        text-align: right;\n",
              "    }\n",
              "</style>\n",
              "<table border=\"1\" class=\"dataframe\">\n",
              "  <thead>\n",
              "    <tr style=\"text-align: right;\">\n",
              "      <th></th>\n",
              "      <th>user</th>\n",
              "      <th>text</th>\n",
              "    </tr>\n",
              "  </thead>\n",
              "  <tbody>\n",
              "    <tr>\n",
              "      <th>0</th>\n",
              "      <td>U29BTED6Y</td>\n",
              "      <td>They are getting natural sunlight...but it is ...</td>\n",
              "    </tr>\n",
              "    <tr>\n",
              "      <th>1</th>\n",
              "      <td>U29BTED6Y</td>\n",
              "      <td>Yes, everything I've read says this is an impo...</td>\n",
              "    </tr>\n",
              "    <tr>\n",
              "      <th>2</th>\n",
              "      <td>U29BTED6Y</td>\n",
              "      <td>I don't disagree with the timing, but I am una...</td>\n",
              "    </tr>\n",
              "    <tr>\n",
              "      <th>3</th>\n",
              "      <td>U29BTED6Y</td>\n",
              "      <td>I appreciate the thought that you have given t...</td>\n",
              "    </tr>\n",
              "    <tr>\n",
              "      <th>4</th>\n",
              "      <td>U29C4CFP1</td>\n",
              "      <td>hm, lets think about this. Maybe we can come u...</td>\n",
              "    </tr>\n",
              "  </tbody>\n",
              "</table>\n",
              "</div>"
            ],
            "text/plain": [
              "        user                                               text\n",
              "0  U29BTED6Y  They are getting natural sunlight...but it is ...\n",
              "1  U29BTED6Y  Yes, everything I've read says this is an impo...\n",
              "2  U29BTED6Y  I don't disagree with the timing, but I am una...\n",
              "3  U29BTED6Y  I appreciate the thought that you have given t...\n",
              "4  U29C4CFP1  hm, lets think about this. Maybe we can come u..."
            ]
          },
          "metadata": {
            "tags": []
          },
          "execution_count": 16
        }
      ]
    },
    {
      "cell_type": "code",
      "metadata": {
        "id": "W4NSEpmyTSqS",
        "colab_type": "code",
        "colab": {}
      },
      "source": [
        "# PRE-PROCESSING\n",
        "\n",
        "dat['text'] = dat['text'].str.replace('[^\\w\\s]','') # remove punctuation\n"
      ],
      "execution_count": 0,
      "outputs": []
    },
    {
      "cell_type": "code",
      "metadata": {
        "id": "W00O14gwes8f",
        "colab_type": "code",
        "colab": {}
      },
      "source": [
        "# what are the common words \n",
        "freq = pd.Series(' '.join(dat['text']).split()).value_counts()[:50]\n",
        "freq\n",
        "\n",
        "# what are the single-use words \n",
        "freq = pd.Series(' '.join(dat['text']).split()).value_counts()[-50:]\n",
        "freq"
      ],
      "execution_count": 0,
      "outputs": []
    },
    {
      "cell_type": "code",
      "metadata": {
        "id": "T9_QMr1keu_u",
        "colab_type": "code",
        "colab": {}
      },
      "source": [
        ""
      ],
      "execution_count": 0,
      "outputs": []
    },
    {
      "cell_type": "code",
      "metadata": {
        "id": "HII3cGv1vYiE",
        "colab_type": "code",
        "colab": {}
      },
      "source": [
        "# USEFUL CHUNK FOR ALT WAY OF UPLOADING FILE(S)\n",
        "\n",
        "uploaded = files.upload()\n",
        "\n",
        "for fn in uploaded.keys():\n",
        "  print('User uploaded file \"{name}\" with length {length} bytes'.format(\n",
        "      name=fn, length=len(uploaded[fn])))"
      ],
      "execution_count": 0,
      "outputs": []
    }
  ]
}