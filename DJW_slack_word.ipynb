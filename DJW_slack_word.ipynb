{
  "nbformat": 4,
  "nbformat_minor": 0,
  "metadata": {
    "colab": {
      "name": "DJW_slack_word.ipynb",
      "provenance": [],
      "authorship_tag": "ABX9TyPJ7dp6wr2WfkYz/LtxQDmO",
      "include_colab_link": true
    },
    "kernelspec": {
      "name": "python3",
      "display_name": "Python 3"
    }
  },
  "cells": [
    {
      "cell_type": "markdown",
      "metadata": {
        "id": "view-in-github",
        "colab_type": "text"
      },
      "source": [
        "<a href=\"https://colab.research.google.com/github/DonnaVakalis/Personal/blob/master/DJW_slack_word.ipynb\" target=\"_parent\"><img src=\"https://colab.research.google.com/assets/colab-badge.svg\" alt=\"Open In Colab\"/></a>"
      ]
    },
    {
      "cell_type": "code",
      "metadata": {
        "id": "J-okaoEMu8G4",
        "colab_type": "code",
        "colab": {}
      },
      "source": [
        "# Upfront steps\n",
        "\n",
        "import os\n",
        "import pandas as pd"
      ],
      "execution_count": 0,
      "outputs": []
    },
    {
      "cell_type": "code",
      "metadata": {
        "id": "HII3cGv1vYiE",
        "colab_type": "code",
        "colab": {}
      },
      "source": [
        "# Get data\n"
      ],
      "execution_count": 0,
      "outputs": []
    }
  ]
}